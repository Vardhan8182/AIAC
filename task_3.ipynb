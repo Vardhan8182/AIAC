{
  "nbformat": 4,
  "nbformat_minor": 0,
  "metadata": {
    "colab": {
      "provenance": [],
      "authorship_tag": "ABX9TyM9odV0ckR7LNk/MpxcNy2+",
      "include_colab_link": true
    },
    "kernelspec": {
      "name": "python3",
      "display_name": "Python 3"
    },
    "language_info": {
      "name": "python"
    }
  },
  "cells": [
    {
      "cell_type": "markdown",
      "metadata": {
        "id": "view-in-github",
        "colab_type": "text"
      },
      "source": [
        "<a href=\"https://colab.research.google.com/github/Vardhan8182/AIAC/blob/main/task_3.ipynb\" target=\"_parent\"><img src=\"https://colab.research.google.com/assets/colab-badge.svg\" alt=\"Open In Colab\"/></a>"
      ]
    },
    {
      "cell_type": "code",
      "execution_count": 1,
      "metadata": {
        "id": "0vpjeQZc1fTo"
      },
      "outputs": [],
      "source": [
        "import math\n",
        "\n",
        "def calculate_area(shape, *dimensions):\n",
        "    \"\"\"\n",
        "    Calculates the area of various shapes.\n",
        "\n",
        "    Args:\n",
        "        shape (str): The type of shape (e.g., 'circle', 'square', 'rectangle', 'triangle').\n",
        "        *dimensions: The dimensions of the shape (e.g., radius for a circle, side length for a square,\n",
        "                     length and width for a rectangle, base and height for a triangle).\n",
        "\n",
        "    Returns:\n",
        "        float: The area of the shape.\n",
        "        str: An error message if the shape is not supported or dimensions are incorrect.\n",
        "    \"\"\"\n",
        "    shape = shape.lower()  # Convert shape to lowercase for case-insensitive comparison\n",
        "\n",
        "    if shape == 'circle':\n",
        "        if len(dimensions) == 1:\n",
        "            radius = dimensions[0]\n",
        "            return math.pi * radius**2\n",
        "        else:\n",
        "            return \"Error: Circle requires one dimension (radius).\"\n",
        "    elif shape == 'square':\n",
        "        if len(dimensions) == 1:\n",
        "            side = dimensions[0]\n",
        "            return side**2\n",
        "        else:\n",
        "            return \"Error: Square requires one dimension (side length).\"\n",
        "    elif shape == 'rectangle':\n",
        "        if len(dimensions) == 2:\n",
        "            length, width = dimensions\n",
        "            return length * width\n",
        "        else:\n",
        "            return \"Error: Rectangle requires two dimensions (length and width).\"\n",
        "    elif shape == 'triangle':\n",
        "        if len(dimensions) == 2:\n",
        "            base, height = dimensions\n",
        "            return 0.5 * base * height\n",
        "        else:\n",
        "            return \"Error: Triangle requires two dimensions (base and height).\"\n",
        "    else:\n",
        "        return \"Error: Unsupported shape. Supported shapes are 'circle', 'square', 'rectangle', 'triangle'.\"\n",
        "\n",
        "# Example usage:\n",
        "# area_circle = calculate_area('circle', 5)\n",
        "# print(f\"Area of circle with radius 5: {area_circle}\")\n",
        "\n",
        "# area_square = calculate_area('square', 4)\n",
        "# print(f\"Area of square with side 4: {area_square}\")\n",
        "\n",
        "# area_rectangle = calculate_area('rectangle', 6, 8)\n",
        "# print(f\"Area of rectangle with length 6 and width 8: {area_rectangle}\")\n",
        "\n",
        "# area_triangle = calculate_area('triangle', 10, 5)\n",
        "# print(f\"Area of triangle with base 10 and height 5: {area_triangle}\")\n",
        "\n",
        "# area_unsupported = calculate_area('pentagon', 5)\n",
        "# print(area_unsupported)\n",
        "\n",
        "# area_circle_error = calculate_area('circle', 5, 2)\n",
        "# print(area_circle_error)"
      ]
    },
    {
      "cell_type": "code",
      "source": [
        "shape_input = input(\"Enter the shape (circle, square, rectangle, triangle): \").lower()\n",
        "dimensions_input = input(f\"Enter all measurements for the {shape_input}, separated by commas (e.g., radius for circle, length,width for rectangle): \")\n",
        "\n",
        "try:\n",
        "    dimensions = [float(dim.strip()) for dim in dimensions_input.split(',')]\n",
        "    area = calculate_area(shape_input, *dimensions)\n",
        "    print(f\"The area of the {shape_input} is: {area}\")\n",
        "except ValueError:\n",
        "    print(\"Invalid measurement input. Please enter numbers separated by commas.\")\n",
        "except Exception as e:\n",
        "    print(f\"An error occurred: {e}\")"
      ],
      "metadata": {
        "colab": {
          "base_uri": "https://localhost:8080/"
        },
        "id": "7QhqVrSy1wYV",
        "outputId": "2e231a3f-e515-46c9-a7d9-b05b1a054beb"
      },
      "execution_count": 2,
      "outputs": [
        {
          "output_type": "stream",
          "name": "stdout",
          "text": [
            "Enter the shape (circle, square, rectangle, triangle): circle\n",
            "Enter all measurements for the circle, separated by commas (e.g., radius for circle, length,width for rectangle): 10\n",
            "The area of the circle is: 314.1592653589793\n"
          ]
        }
      ]
    }
  ]
}